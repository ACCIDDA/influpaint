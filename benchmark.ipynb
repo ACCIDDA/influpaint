{
 "cells": [
  {
   "cell_type": "markdown",
   "metadata": {},
   "source": [
    "## About WIS\n",
    "Good ressources:\n",
    "-  Supplement of Cramer et al.\n",
    "- code cramer et al. here https://github.com/reichlab/covid19-forecast-evals\n",
    "- obviously https://journals.plos.org/ploscompbiol/article?id=10.1371/journal.pcbi.1008618#sec015\n",
    "- [git clone https://github.com/adrian-lison/interval-scoring.git](https://github.com/adrian-lison/interval-scoring/tree/master) Adrian Lison's code for WIS\n",
    "- https://epiforecasts.io/scoringutils/ Scoring utils package -- perhaps best to use ?"
   ]
  },
  {
   "cell_type": "code",
   "execution_count": 60,
   "metadata": {},
   "outputs": [],
   "source": [
    "from interval_scoring import scoring\n",
    "import pandas as pd\n",
    "import numpy as np\n",
    "from tqdm import tqdm"
   ]
  },
  {
   "cell_type": "code",
   "execution_count": 42,
   "metadata": {},
   "outputs": [
    {
     "ename": "NameError",
     "evalue": "name 'f' is not defined",
     "output_type": "error",
     "traceback": [
      "\u001b[0;31m---------------------------------------------------------------------------\u001b[0m",
      "\u001b[0;31mNameError\u001b[0m                                 Traceback (most recent call last)",
      "\u001b[1;32m/Users/chadi/Documents/Research/inpainting-idforecasts/benchmark.ipynb Cell 3\u001b[0m line \u001b[0;36m1\n\u001b[0;32m----> <a href='vscode-notebook-cell:/Users/chadi/Documents/Research/inpainting-idforecasts/benchmark.ipynb#X30sZmlsZQ%3D%3D?line=0'>1</a>\u001b[0m f\n",
      "\u001b[0;31mNameError\u001b[0m: name 'f' is not defined"
     ]
    }
   ],
   "source": [
    "f"
   ]
  },
  {
   "cell_type": "code",
   "execution_count": 54,
   "metadata": {},
   "outputs": [],
   "source": [
    "def score_forecasts(gt, forecasts):\n",
    "    if isinstance(gt, str):\n",
    "        gt = pd.read_csv(gt)\n",
    "    if isinstance(forecasts, str):\n",
    "        forecast = pd.read_csv(forecast)\n",
    "    gt = gt[gt[\"location\"].isin(forecasts[\"location\"])]\n",
    "    \n",
    "    alphas= np.array(sorted(forecasts[\"quantile\"].unique()))[:11]*2\n",
    "    \n",
    "        \n",
    "    gt_piv = gt[gt[\"date\"].isin(forecasts.target_end_date)].pivot(index=\"date\", columns=\"location\", values=\"value\").sort_index()\n",
    "    \n",
    "    \n",
    "    wis_total = pd.DataFrame(0, index=gt_piv.index, columns=gt_piv.columns)\n",
    "    wis_sharpness = pd.DataFrame(0, index=gt_piv.index, columns=gt_piv.columns)\n",
    "    wis_calibration = pd.DataFrame(0, index=gt_piv.index, columns=gt_piv.columns)\n",
    "    \n",
    "    for target in gt_piv.index:\n",
    "        f = forecasts[forecasts[\"target_end_date\"] == target]\n",
    "        q_dict = {}\n",
    "        for q in f[\"quantile\"].unique():\n",
    "            q_dict[float(q)] = f[f[\"quantile\"]==q].pivot(index=\"target_end_date\", columns=\"location\", values=\"value\").sort_index().to_numpy().ravel()\n",
    "        wis_total.loc[target], wis_sharpness.loc[target], wis_calibration.loc[target] =  scoring.weighted_interval_score(observations=gt_piv.loc[target].to_numpy(), \n",
    "                                                                            alphas=alphas, \n",
    "                                                                            q_dict=q_dict, \n",
    "                                                                            weights=alphas/2)\n",
    "    \n",
    "        wis_total.loc[target]\n",
    "    \n",
    "    return wis_total, wis_sharpness, wis_calibration"
   ]
  },
  {
   "cell_type": "code",
   "execution_count": 64,
   "metadata": {},
   "outputs": [
    {
     "name": "stderr",
     "output_type": "stream",
     "text": [
      "  7%|▋         | 2/27 [00:00<00:07,  3.30it/s]"
     ]
    },
    {
     "name": "stdout",
     "output_type": "stream",
     "text": [
      "skipping 2022-11-28\n"
     ]
    },
    {
     "name": "stderr",
     "output_type": "stream",
     "text": [
      " 41%|████      | 11/27 [00:02<00:03,  4.11it/s]"
     ]
    },
    {
     "name": "stdout",
     "output_type": "stream",
     "text": [
      "skipping 2023-01-30\n"
     ]
    },
    {
     "name": "stderr",
     "output_type": "stream",
     "text": [
      "100%|██████████| 27/27 [00:06<00:00,  4.22it/s]\n"
     ]
    }
   ],
   "source": [
    "fdates = pd.date_range(\"2022-11-14\", \"2023-05-15\", freq=\"W-MON\")\n",
    "\n",
    "gt = pd.read_csv(\"Flusight/Flusight-forecast-data/data-truth/truth-Incident Hospitalizations.csv\")\n",
    "\n",
    "scores = {}\n",
    "for date in tqdm(fdates):\n",
    "    date = date.date()\n",
    "    try:\n",
    "        forecasts = pd.read_csv(f\"Flusight/Flusight-forecast-data/data-forecasts/UNC_IDD-InfluPaint/{str(date)}-UNC_IDD-InfluPaint.csv\")\n",
    "        this_date=True\n",
    "    except FileNotFoundError:\n",
    "        print(f\"skipping {date}\")\n",
    "        this_date=False\n",
    "    if this_date:\n",
    "        wis_total, wis_sharpness, wis_calibration = score_forecasts(gt, forecasts)\n",
    "        scores[date] = wis_total\n",
    "        "
   ]
  },
  {
   "cell_type": "code",
   "execution_count": 66,
   "metadata": {},
   "outputs": [
    {
     "ename": "ValueError",
     "evalue": "If using all scalar values, you must pass an index",
     "output_type": "error",
     "traceback": [
      "\u001b[0;31m---------------------------------------------------------------------------\u001b[0m",
      "\u001b[0;31mValueError\u001b[0m                                Traceback (most recent call last)",
      "\u001b[1;32m/Users/chadi/Documents/Research/inpainting-idforecasts/benchmark.ipynb Cell 6\u001b[0m line \u001b[0;36m1\n\u001b[0;32m----> <a href='vscode-notebook-cell:/Users/chadi/Documents/Research/inpainting-idforecasts/benchmark.ipynb#X23sZmlsZQ%3D%3D?line=0'>1</a>\u001b[0m pd\u001b[39m.\u001b[39;49mDataFrame\u001b[39m.\u001b[39;49mfrom_dict(scores)\n",
      "File \u001b[0;32m~/opt/miniconda3/envs/diffusion_torch/lib/python3.10/site-packages/pandas/core/frame.py:1677\u001b[0m, in \u001b[0;36mDataFrame.from_dict\u001b[0;34m(cls, data, orient, dtype, columns)\u001b[0m\n\u001b[1;32m   1674\u001b[0m     \u001b[39mraise\u001b[39;00m \u001b[39mValueError\u001b[39;00m(\u001b[39m\"\u001b[39m\u001b[39monly recognize index or columns for orient\u001b[39m\u001b[39m\"\u001b[39m)\n\u001b[1;32m   1676\u001b[0m \u001b[39mif\u001b[39;00m orient \u001b[39m!=\u001b[39m \u001b[39m\"\u001b[39m\u001b[39mtight\u001b[39m\u001b[39m\"\u001b[39m:\n\u001b[0;32m-> 1677\u001b[0m     \u001b[39mreturn\u001b[39;00m \u001b[39mcls\u001b[39;49m(data, index\u001b[39m=\u001b[39;49mindex, columns\u001b[39m=\u001b[39;49mcolumns, dtype\u001b[39m=\u001b[39;49mdtype)\n\u001b[1;32m   1678\u001b[0m \u001b[39melse\u001b[39;00m:\n\u001b[1;32m   1679\u001b[0m     realdata \u001b[39m=\u001b[39m data[\u001b[39m\"\u001b[39m\u001b[39mdata\u001b[39m\u001b[39m\"\u001b[39m]\n",
      "File \u001b[0;32m~/opt/miniconda3/envs/diffusion_torch/lib/python3.10/site-packages/pandas/core/frame.py:636\u001b[0m, in \u001b[0;36mDataFrame.__init__\u001b[0;34m(self, data, index, columns, dtype, copy)\u001b[0m\n\u001b[1;32m    630\u001b[0m     mgr \u001b[39m=\u001b[39m \u001b[39mself\u001b[39m\u001b[39m.\u001b[39m_init_mgr(\n\u001b[1;32m    631\u001b[0m         data, axes\u001b[39m=\u001b[39m{\u001b[39m\"\u001b[39m\u001b[39mindex\u001b[39m\u001b[39m\"\u001b[39m: index, \u001b[39m\"\u001b[39m\u001b[39mcolumns\u001b[39m\u001b[39m\"\u001b[39m: columns}, dtype\u001b[39m=\u001b[39mdtype, copy\u001b[39m=\u001b[39mcopy\n\u001b[1;32m    632\u001b[0m     )\n\u001b[1;32m    634\u001b[0m \u001b[39melif\u001b[39;00m \u001b[39misinstance\u001b[39m(data, \u001b[39mdict\u001b[39m):\n\u001b[1;32m    635\u001b[0m     \u001b[39m# GH#38939 de facto copy defaults to False only in non-dict cases\u001b[39;00m\n\u001b[0;32m--> 636\u001b[0m     mgr \u001b[39m=\u001b[39m dict_to_mgr(data, index, columns, dtype\u001b[39m=\u001b[39;49mdtype, copy\u001b[39m=\u001b[39;49mcopy, typ\u001b[39m=\u001b[39;49mmanager)\n\u001b[1;32m    637\u001b[0m \u001b[39melif\u001b[39;00m \u001b[39misinstance\u001b[39m(data, ma\u001b[39m.\u001b[39mMaskedArray):\n\u001b[1;32m    638\u001b[0m     \u001b[39mimport\u001b[39;00m \u001b[39mnumpy\u001b[39;00m\u001b[39m.\u001b[39;00m\u001b[39mma\u001b[39;00m\u001b[39m.\u001b[39;00m\u001b[39mmrecords\u001b[39;00m \u001b[39mas\u001b[39;00m \u001b[39mmrecords\u001b[39;00m\n",
      "File \u001b[0;32m~/opt/miniconda3/envs/diffusion_torch/lib/python3.10/site-packages/pandas/core/internals/construction.py:502\u001b[0m, in \u001b[0;36mdict_to_mgr\u001b[0;34m(data, index, columns, dtype, typ, copy)\u001b[0m\n\u001b[1;32m    494\u001b[0m     arrays \u001b[39m=\u001b[39m [\n\u001b[1;32m    495\u001b[0m         x\n\u001b[1;32m    496\u001b[0m         \u001b[39mif\u001b[39;00m \u001b[39mnot\u001b[39;00m \u001b[39mhasattr\u001b[39m(x, \u001b[39m\"\u001b[39m\u001b[39mdtype\u001b[39m\u001b[39m\"\u001b[39m) \u001b[39mor\u001b[39;00m \u001b[39mnot\u001b[39;00m \u001b[39misinstance\u001b[39m(x\u001b[39m.\u001b[39mdtype, ExtensionDtype)\n\u001b[1;32m    497\u001b[0m         \u001b[39melse\u001b[39;00m x\u001b[39m.\u001b[39mcopy()\n\u001b[1;32m    498\u001b[0m         \u001b[39mfor\u001b[39;00m x \u001b[39min\u001b[39;00m arrays\n\u001b[1;32m    499\u001b[0m     ]\n\u001b[1;32m    500\u001b[0m     \u001b[39m# TODO: can we get rid of the dt64tz special case above?\u001b[39;00m\n\u001b[0;32m--> 502\u001b[0m \u001b[39mreturn\u001b[39;00m arrays_to_mgr(arrays, columns, index, dtype\u001b[39m=\u001b[39;49mdtype, typ\u001b[39m=\u001b[39;49mtyp, consolidate\u001b[39m=\u001b[39;49mcopy)\n",
      "File \u001b[0;32m~/opt/miniconda3/envs/diffusion_torch/lib/python3.10/site-packages/pandas/core/internals/construction.py:120\u001b[0m, in \u001b[0;36marrays_to_mgr\u001b[0;34m(arrays, columns, index, dtype, verify_integrity, typ, consolidate)\u001b[0m\n\u001b[1;32m    117\u001b[0m \u001b[39mif\u001b[39;00m verify_integrity:\n\u001b[1;32m    118\u001b[0m     \u001b[39m# figure out the index, if necessary\u001b[39;00m\n\u001b[1;32m    119\u001b[0m     \u001b[39mif\u001b[39;00m index \u001b[39mis\u001b[39;00m \u001b[39mNone\u001b[39;00m:\n\u001b[0;32m--> 120\u001b[0m         index \u001b[39m=\u001b[39m _extract_index(arrays)\n\u001b[1;32m    121\u001b[0m     \u001b[39melse\u001b[39;00m:\n\u001b[1;32m    122\u001b[0m         index \u001b[39m=\u001b[39m ensure_index(index)\n",
      "File \u001b[0;32m~/opt/miniconda3/envs/diffusion_torch/lib/python3.10/site-packages/pandas/core/internals/construction.py:664\u001b[0m, in \u001b[0;36m_extract_index\u001b[0;34m(data)\u001b[0m\n\u001b[1;32m    661\u001b[0m         \u001b[39mraise\u001b[39;00m \u001b[39mValueError\u001b[39;00m(\u001b[39m\"\u001b[39m\u001b[39mPer-column arrays must each be 1-dimensional\u001b[39m\u001b[39m\"\u001b[39m)\n\u001b[1;32m    663\u001b[0m \u001b[39mif\u001b[39;00m \u001b[39mnot\u001b[39;00m indexes \u001b[39mand\u001b[39;00m \u001b[39mnot\u001b[39;00m raw_lengths:\n\u001b[0;32m--> 664\u001b[0m     \u001b[39mraise\u001b[39;00m \u001b[39mValueError\u001b[39;00m(\u001b[39m\"\u001b[39m\u001b[39mIf using all scalar values, you must pass an index\u001b[39m\u001b[39m\"\u001b[39m)\n\u001b[1;32m    666\u001b[0m \u001b[39melif\u001b[39;00m have_series:\n\u001b[1;32m    667\u001b[0m     index \u001b[39m=\u001b[39m union_indexes(indexes)\n",
      "\u001b[0;31mValueError\u001b[0m: If using all scalar values, you must pass an index"
     ]
    }
   ],
   "source": []
  },
  {
   "cell_type": "code",
   "execution_count": 95,
   "metadata": {},
   "outputs": [
    {
     "data": {
      "text/html": [
       "<div>\n",
       "<style scoped>\n",
       "    .dataframe tbody tr th:only-of-type {\n",
       "        vertical-align: middle;\n",
       "    }\n",
       "\n",
       "    .dataframe tbody tr th {\n",
       "        vertical-align: top;\n",
       "    }\n",
       "\n",
       "    .dataframe thead th {\n",
       "        text-align: right;\n",
       "    }\n",
       "</style>\n",
       "<table border=\"1\" class=\"dataframe\">\n",
       "  <thead>\n",
       "    <tr style=\"text-align: right;\">\n",
       "      <th>location</th>\n",
       "      <th>01</th>\n",
       "      <th>02</th>\n",
       "      <th>04</th>\n",
       "      <th>05</th>\n",
       "      <th>06</th>\n",
       "      <th>08</th>\n",
       "      <th>09</th>\n",
       "      <th>10</th>\n",
       "      <th>11</th>\n",
       "      <th>12</th>\n",
       "      <th>...</th>\n",
       "      <th>47</th>\n",
       "      <th>48</th>\n",
       "      <th>49</th>\n",
       "      <th>50</th>\n",
       "      <th>51</th>\n",
       "      <th>53</th>\n",
       "      <th>54</th>\n",
       "      <th>55</th>\n",
       "      <th>56</th>\n",
       "      <th>US</th>\n",
       "    </tr>\n",
       "    <tr>\n",
       "      <th>target_end_date</th>\n",
       "      <th></th>\n",
       "      <th></th>\n",
       "      <th></th>\n",
       "      <th></th>\n",
       "      <th></th>\n",
       "      <th></th>\n",
       "      <th></th>\n",
       "      <th></th>\n",
       "      <th></th>\n",
       "      <th></th>\n",
       "      <th></th>\n",
       "      <th></th>\n",
       "      <th></th>\n",
       "      <th></th>\n",
       "      <th></th>\n",
       "      <th></th>\n",
       "      <th></th>\n",
       "      <th></th>\n",
       "      <th></th>\n",
       "      <th></th>\n",
       "      <th></th>\n",
       "    </tr>\n",
       "  </thead>\n",
       "  <tbody>\n",
       "    <tr>\n",
       "      <th>2022-11-19</th>\n",
       "      <td>215.826505</td>\n",
       "      <td>8.474259</td>\n",
       "      <td>74.415518</td>\n",
       "      <td>183.956470</td>\n",
       "      <td>784.833063</td>\n",
       "      <td>47.760973</td>\n",
       "      <td>55.607553</td>\n",
       "      <td>8.336416</td>\n",
       "      <td>20.551658</td>\n",
       "      <td>473.108468</td>\n",
       "      <td>...</td>\n",
       "      <td>318.003985</td>\n",
       "      <td>880.318480</td>\n",
       "      <td>10.308967</td>\n",
       "      <td>4.014218</td>\n",
       "      <td>380.289382</td>\n",
       "      <td>54.964502</td>\n",
       "      <td>83.879923</td>\n",
       "      <td>49.470893</td>\n",
       "      <td>4.403230</td>\n",
       "      <td>8101.194765</td>\n",
       "    </tr>\n",
       "    <tr>\n",
       "      <th>2022-11-26</th>\n",
       "      <td>175.979997</td>\n",
       "      <td>7.861236</td>\n",
       "      <td>69.607775</td>\n",
       "      <td>175.703556</td>\n",
       "      <td>851.237740</td>\n",
       "      <td>50.555501</td>\n",
       "      <td>58.522854</td>\n",
       "      <td>9.755225</td>\n",
       "      <td>22.392716</td>\n",
       "      <td>508.415168</td>\n",
       "      <td>...</td>\n",
       "      <td>329.555027</td>\n",
       "      <td>682.858954</td>\n",
       "      <td>10.554381</td>\n",
       "      <td>5.190021</td>\n",
       "      <td>431.405683</td>\n",
       "      <td>55.947064</td>\n",
       "      <td>87.191237</td>\n",
       "      <td>61.584991</td>\n",
       "      <td>4.186020</td>\n",
       "      <td>8454.814988</td>\n",
       "    </tr>\n",
       "    <tr>\n",
       "      <th>2022-12-03</th>\n",
       "      <td>134.136669</td>\n",
       "      <td>7.410911</td>\n",
       "      <td>58.545103</td>\n",
       "      <td>150.357802</td>\n",
       "      <td>827.308120</td>\n",
       "      <td>49.028275</td>\n",
       "      <td>53.881750</td>\n",
       "      <td>10.235729</td>\n",
       "      <td>22.258382</td>\n",
       "      <td>499.325026</td>\n",
       "      <td>...</td>\n",
       "      <td>309.782306</td>\n",
       "      <td>498.662739</td>\n",
       "      <td>8.740848</td>\n",
       "      <td>6.199420</td>\n",
       "      <td>442.539245</td>\n",
       "      <td>55.935754</td>\n",
       "      <td>83.717269</td>\n",
       "      <td>69.828478</td>\n",
       "      <td>3.936483</td>\n",
       "      <td>8132.113769</td>\n",
       "    </tr>\n",
       "    <tr>\n",
       "      <th>2022-12-10</th>\n",
       "      <td>101.101871</td>\n",
       "      <td>6.004188</td>\n",
       "      <td>47.394595</td>\n",
       "      <td>117.538420</td>\n",
       "      <td>733.719733</td>\n",
       "      <td>43.398954</td>\n",
       "      <td>47.046461</td>\n",
       "      <td>9.786414</td>\n",
       "      <td>19.535840</td>\n",
       "      <td>453.920150</td>\n",
       "      <td>...</td>\n",
       "      <td>261.727654</td>\n",
       "      <td>338.350211</td>\n",
       "      <td>7.970135</td>\n",
       "      <td>5.699878</td>\n",
       "      <td>414.857555</td>\n",
       "      <td>51.242794</td>\n",
       "      <td>75.599867</td>\n",
       "      <td>68.511714</td>\n",
       "      <td>3.346635</td>\n",
       "      <td>7181.866700</td>\n",
       "    </tr>\n",
       "  </tbody>\n",
       "</table>\n",
       "<p>4 rows × 52 columns</p>\n",
       "</div>"
      ],
      "text/plain": [
       "location                 01        02         04          05          06  \\\n",
       "target_end_date                                                            \n",
       "2022-11-19       215.826505  8.474259  74.415518  183.956470  784.833063   \n",
       "2022-11-26       175.979997  7.861236  69.607775  175.703556  851.237740   \n",
       "2022-12-03       134.136669  7.410911  58.545103  150.357802  827.308120   \n",
       "2022-12-10       101.101871  6.004188  47.394595  117.538420  733.719733   \n",
       "\n",
       "location                08         09         10         11          12  ...  \\\n",
       "target_end_date                                                          ...   \n",
       "2022-11-19       47.760973  55.607553   8.336416  20.551658  473.108468  ...   \n",
       "2022-11-26       50.555501  58.522854   9.755225  22.392716  508.415168  ...   \n",
       "2022-12-03       49.028275  53.881750  10.235729  22.258382  499.325026  ...   \n",
       "2022-12-10       43.398954  47.046461   9.786414  19.535840  453.920150  ...   \n",
       "\n",
       "location                 47          48         49        50          51  \\\n",
       "target_end_date                                                            \n",
       "2022-11-19       318.003985  880.318480  10.308967  4.014218  380.289382   \n",
       "2022-11-26       329.555027  682.858954  10.554381  5.190021  431.405683   \n",
       "2022-12-03       309.782306  498.662739   8.740848  6.199420  442.539245   \n",
       "2022-12-10       261.727654  338.350211   7.970135  5.699878  414.857555   \n",
       "\n",
       "location                53         54         55        56           US  \n",
       "target_end_date                                                          \n",
       "2022-11-19       54.964502  83.879923  49.470893  4.403230  8101.194765  \n",
       "2022-11-26       55.947064  87.191237  61.584991  4.186020  8454.814988  \n",
       "2022-12-03       55.935754  83.717269  69.828478  3.936483  8132.113769  \n",
       "2022-12-10       51.242794  75.599867  68.511714  3.346635  7181.866700  \n",
       "\n",
       "[4 rows x 52 columns]"
      ]
     },
     "execution_count": 95,
     "metadata": {},
     "output_type": "execute_result"
    }
   ],
   "source": [
    "q_dict[0.01]"
   ]
  },
  {
   "cell_type": "code",
   "execution_count": 65,
   "metadata": {},
   "outputs": [
    {
     "name": "stdout",
     "output_type": "stream",
     "text": [
      "\u001b[0;31mSignature:\u001b[0m\n",
      "\u001b[0mscoring\u001b[0m\u001b[0;34m.\u001b[0m\u001b[0mweighted_interval_score\u001b[0m\u001b[0;34m(\u001b[0m\u001b[0;34m\u001b[0m\n",
      "\u001b[0;34m\u001b[0m    \u001b[0mobservations\u001b[0m\u001b[0;34m,\u001b[0m\u001b[0;34m\u001b[0m\n",
      "\u001b[0;34m\u001b[0m    \u001b[0malphas\u001b[0m\u001b[0;34m,\u001b[0m\u001b[0;34m\u001b[0m\n",
      "\u001b[0;34m\u001b[0m    \u001b[0mq_dict\u001b[0m\u001b[0;34m,\u001b[0m\u001b[0;34m\u001b[0m\n",
      "\u001b[0;34m\u001b[0m    \u001b[0mweights\u001b[0m\u001b[0;34m=\u001b[0m\u001b[0;32mNone\u001b[0m\u001b[0;34m,\u001b[0m\u001b[0;34m\u001b[0m\n",
      "\u001b[0;34m\u001b[0m    \u001b[0mpercent\u001b[0m\u001b[0;34m=\u001b[0m\u001b[0;32mFalse\u001b[0m\u001b[0;34m,\u001b[0m\u001b[0;34m\u001b[0m\n",
      "\u001b[0;34m\u001b[0m    \u001b[0mcheck_consistency\u001b[0m\u001b[0;34m=\u001b[0m\u001b[0;32mTrue\u001b[0m\u001b[0;34m,\u001b[0m\u001b[0;34m\u001b[0m\n",
      "\u001b[0;34m\u001b[0m\u001b[0;34m)\u001b[0m\u001b[0;34m\u001b[0m\u001b[0;34m\u001b[0m\u001b[0m\n",
      "\u001b[0;31mDocstring:\u001b[0m\n",
      "Compute weighted interval scores for an array of observations and a number of different predicted intervals.\n",
      "\n",
      "This function implements the WIS-score (2). A dictionary with the respective (alpha/2)\n",
      "and (1-(alpha/2)) quantiles for all alpha levels given in `alphas` needs to be specified.\n",
      "\n",
      "Parameters\n",
      "----------\n",
      "observations : array_like\n",
      "    Ground truth observations.\n",
      "alphas : iterable\n",
      "    Alpha levels for (1-alpha) intervals.\n",
      "q_dict : dict\n",
      "    Dictionary with predicted quantiles for all instances in `observations`.\n",
      "weights : iterable, optional\n",
      "    Corresponding weights for each interval. If `None`, `weights` is set to `alphas`, yielding the WIS^alpha-score.\n",
      "percent: bool, optional\n",
      "    If `True`, score is scaled by absolute value of observations to yield the double absolute percentage error. Default is `False`.\n",
      "check_consistency: bool, optional\n",
      "    If `True`, quantiles in `q_dict` are checked for consistency. Default is `True`.\n",
      "    \n",
      "Returns\n",
      "-------\n",
      "total : array_like\n",
      "    Total weighted interval scores.\n",
      "sharpness : array_like\n",
      "    Sharpness component of weighted interval scores.\n",
      "calibration : array_like\n",
      "    Calibration component of weighted interval scores.\n",
      "    \n",
      "(2) Bracher, J., Ray, E. L., Gneiting, T., & Reich, N. G. (2020). Evaluating epidemic forecasts in an interval format. arXiv preprint arXiv:2005.12881.\n",
      "\u001b[0;31mFile:\u001b[0m      ~/Documents/Research/inpainting-idforecasts/interval_scoring/scoring.py\n",
      "\u001b[0;31mType:\u001b[0m      function\n"
     ]
    }
   ],
   "source": [
    "scoring.weighted_interval_score?"
   ]
  }
 ],
 "metadata": {
  "kernelspec": {
   "display_name": "diffusion_torch",
   "language": "python",
   "name": "python3"
  },
  "language_info": {
   "codemirror_mode": {
    "name": "ipython",
    "version": 3
   },
   "file_extension": ".py",
   "mimetype": "text/x-python",
   "name": "python",
   "nbconvert_exporter": "python",
   "pygments_lexer": "ipython3",
   "version": "3.10.6"
  },
  "orig_nbformat": 4
 },
 "nbformat": 4,
 "nbformat_minor": 2
}
