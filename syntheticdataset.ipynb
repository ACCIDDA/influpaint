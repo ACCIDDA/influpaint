{
 "cells": [
  {
   "cell_type": "code",
   "execution_count": 1,
   "metadata": {},
   "outputs": [
    {
     "name": "stderr",
     "output_type": "stream",
     "text": [
      "INFO:root:Running ModelInfo with outcomes but without Outcomes Modifiers\n"
     ]
    },
    {
     "name": "stdout",
     "output_type": "stream",
     "text": [
      "found 10 CPUs, using these\n",
      "  gempyor >> Running ***DETERMINISTIC*** simulation;\n",
      "  gempyor >> ModelInfo USA_influpaint_Ro_all; index: 1; run_id: sir_dataset_1,\n",
      "  gempyor >> prefix: USA_influpaint_inference_all/sir_dataset_1/;\n"
     ]
    }
   ],
   "source": [
    "import gempyor\n",
    "import numpy as np\n",
    "import pandas as pd\n",
    "import matplotlib.pyplot as plt\n",
    "# import seaborn as sns\n",
    "import matplotlib._color_data as mcd\n",
    "import pyarrow.parquet as pq\n",
    "import dask.dataframe as dd\n",
    "import matplotlib.dates as mdates\n",
    "import matplotlib.cbook as cboo\n",
    "from matplotlib.backends.backend_pdf import PdfPages\n",
    "import tqdm\n",
    "\n",
    "import os\n",
    "import multiprocessing as mp\n",
    "import pandas as pd\n",
    "import pyarrow.parquet as pq\n",
    "import xarray as xr\n",
    "from gempyor import config, model_info, outcomes, seir, inference_parameter, logloss, inference\n",
    "\n",
    "import os\n",
    "from multiprocessing import cpu_count\n",
    "from gempyor.inference import GempyorInference\n",
    "import gempyor.postprocess_inference\n",
    "\n",
    "config_filepath = f\"simple_usa_statelevel.yml\"\n",
    "project_path = \"synthetic_dataset/\"\n",
    "\n",
    "\n",
    "do_gt = False\n",
    "do_fit = False\n",
    "\n",
    "import mlflow\n",
    "\n",
    "run_id = f\"sir_dataset_1\"\n",
    "\n",
    "ncpu = cpu_count()-2\n",
    "print(f\"found {ncpu} CPUs, using these\")\n",
    "generate_notebook=False\n",
    "gempyor_inference = GempyorInference(\n",
    "        config_filepath=config_filepath,\n",
    "        run_id=run_id,\n",
    "        prefix=None,\n",
    "        first_sim_index=1,\n",
    "        stoch_traj_flag=False,\n",
    "        rng_seed=None,\n",
    "        nslots=1,\n",
    "        inference_filename_prefix=\"\",  # usually for {global or chimeric}/{intermediate or final}\n",
    "        inference_filepath_suffix=\"\",  # usually for the slot_id\n",
    "        out_run_id=None,  # if out_run_id is different from in_run_id, fill this\n",
    "        out_prefix=None,  # if out_prefix is different from in_prefix, fill this\n",
    "        path_prefix=project_path,  # in case the data folder is on another directory\n",
    "        autowrite_seir=False,\n",
    ")\n",
    "\n",
    "nsubpop = len(gempyor_inference.modinf.subpop_struct.subpop_names)\n",
    "subpop_names = gempyor_inference.modinf.subpop_struct.subpop_names\n",
    "if generate_notebook:\n",
    "    for i in range(4):\n",
    "        gt_df = gempyor_inference.one_simulation(sim_id2write=i, load_ID = False)\n"
   ]
  },
  {
   "cell_type": "code",
   "execution_count": null,
   "metadata": {},
   "outputs": [],
   "source": []
  },
  {
   "cell_type": "code",
   "execution_count": null,
   "metadata": {},
   "outputs": [],
   "source": []
  },
  {
   "cell_type": "markdown",
   "metadata": {},
   "source": [
    "## Generate a ground-truth (do once)\n",
    "There is already a ground-truth data generated on git, but if you want to make yours, first run:\n",
    "```bash\n",
    "cd synthetic_dataset/\n",
    "rm -r model_output/\n",
    "gempyor-simulate -c simple_usa_statelevel.yml -n 300\n",
    "```\n"
   ]
  },
  {
   "cell_type": "code",
   "execution_count": null,
   "metadata": {},
   "outputs": [],
   "source": []
  },
  {
   "cell_type": "code",
   "execution_count": 2,
   "metadata": {},
   "outputs": [
    {
     "data": {
      "image/png": "[encoded data removed]",
      "text/plain": [
       "<Figure size 500x500 with 1 Axes>"
      ]
     },
     "metadata": {},
     "output_type": "display_data"
    }
   ],
   "source": [
    "import gempyor\n",
    "import pandas as pd\n",
    "import matplotlib.pyplot as plt\n",
    "\n",
    "df_l = []\n",
    "for fn in  gempyor.utils.list_filenames(folder=\"synthetic_dataset/model_output/\", filters=[\"hosp\", \".parquet\"]):\n",
    "    df_l.append(gempyor.read_df(fn))\n",
    "fig, axes = plt.subplots(1,1, figsize=(5,5))\n",
    "ax = axes\n",
    "for df in df_l:\n",
    "    ax.plot(df.set_index(\"date\").groupby(\"date\").sum()[\"incidCase\"], lw=.5)\n",
    "ax.grid()\n",
    "ax.set_title(\"Cases (sum all subpopulations)\")\n",
    "fig.autofmt_xdate()"
   ]
  },
  {
   "cell_type": "code",
   "execution_count": null,
   "metadata": {},
   "outputs": [],
   "source": [
    "\n"
   ]
  },
  {
   "cell_type": "markdown",
   "metadata": {},
   "source": [
    "## Convert to a dataset"
   ]
  },
  {
   "cell_type": "code",
   "execution_count": 3,
   "metadata": {},
   "outputs": [
    {
     "ename": "IndexError",
     "evalue": "list index out of range",
     "output_type": "error",
     "traceback": [
      "\u001b[0;31m---------------------------------------------------------------------------\u001b[0m",
      "\u001b[0;31mIndexError\u001b[0m                                Traceback (most recent call last)",
      "Cell \u001b[0;32mIn[3], line 6\u001b[0m\n\u001b[1;32m      1\u001b[0m \u001b[38;5;66;03m# convert to the dataset \u001b[39;00m\n\u001b[1;32m      2\u001b[0m targets \u001b[38;5;241m=\u001b[39m [\u001b[38;5;124m\"\u001b[39m\u001b[38;5;124mincidCase\u001b[39m\u001b[38;5;124m\"\u001b[39m, \u001b[38;5;124m\"\u001b[39m\u001b[38;5;124mincidHosp\u001b[39m\u001b[38;5;124m\"\u001b[39m, \u001b[38;5;124m\"\u001b[39m\u001b[38;5;124mincidDeath\u001b[39m\u001b[38;5;124m\"\u001b[39m]\n\u001b[1;32m      4\u001b[0m ds_xr \u001b[38;5;241m=\u001b[39m xr\u001b[38;5;241m.\u001b[39mDataArray(\u001b[38;5;241m0\u001b[39m, dims\u001b[38;5;241m=\u001b[39m(\u001b[38;5;124m\"\u001b[39m\u001b[38;5;124msample\u001b[39m\u001b[38;5;124m\"\u001b[39m,\u001b[38;5;124m\"\u001b[39m\u001b[38;5;124mdate\u001b[39m\u001b[38;5;124m\"\u001b[39m, \u001b[38;5;124m\"\u001b[39m\u001b[38;5;124msubpop\u001b[39m\u001b[38;5;124m\"\u001b[39m, \u001b[38;5;124m\"\u001b[39m\u001b[38;5;124mtarget\u001b[39m\u001b[38;5;124m\"\u001b[39m), coords\u001b[38;5;241m=\u001b[39m{\n\u001b[1;32m      5\u001b[0m                                                                             \u001b[38;5;124m\"\u001b[39m\u001b[38;5;124msample\u001b[39m\u001b[38;5;124m\"\u001b[39m:np\u001b[38;5;241m.\u001b[39marange(\u001b[38;5;28mlen\u001b[39m(df_l)),\n\u001b[0;32m----> 6\u001b[0m                                                                             \u001b[38;5;124m\"\u001b[39m\u001b[38;5;124mdate\u001b[39m\u001b[38;5;124m\"\u001b[39m:df_l[\u001b[38;5;241m0\u001b[39m]\u001b[38;5;241m.\u001b[39mset_index(\u001b[38;5;124m\"\u001b[39m\u001b[38;5;124mdate\u001b[39m\u001b[38;5;124m\"\u001b[39m)\u001b[38;5;241m.\u001b[39msort_index()\u001b[38;5;241m.\u001b[39mgroupby(\u001b[38;5;124m\"\u001b[39m\u001b[38;5;124mdate\u001b[39m\u001b[38;5;124m\"\u001b[39m)\u001b[38;5;241m.\u001b[39msum()\u001b[38;5;241m.\u001b[39mindex, \n\u001b[1;32m      7\u001b[0m                                                                             \u001b[38;5;124m\"\u001b[39m\u001b[38;5;124msubpop\u001b[39m\u001b[38;5;124m\"\u001b[39m:subpop_names, \n\u001b[1;32m      8\u001b[0m                                                                             \u001b[38;5;124m\"\u001b[39m\u001b[38;5;124mtarget\u001b[39m\u001b[38;5;124m\"\u001b[39m:targets\n\u001b[1;32m      9\u001b[0m                                                                             })\n",
      "\u001b[0;31mIndexError\u001b[0m: list index out of range"
     ]
    }
   ],
   "source": [
    "# convert to the dataset \n",
    "targets = [\"incidCase\", \"incidHosp\", \"incidDeath\"]\n",
    "\n",
    "ds_xr = xr.DataArray(0, dims=(\"sample\",\"date\", \"subpop\", \"target\"), coords={\n",
    "                                                                            \"sample\":np.arange(len(df_l)),\n",
    "                                                                            \"date\":df_l[0].set_index(\"date\").sort_index().groupby(\"date\").sum().index, \n",
    "                                                                            \"subpop\":subpop_names, \n",
    "                                                                            \"target\":targets\n",
    "                                                                            })"
   ]
  },
  {
   "cell_type": "code",
   "execution_count": 4,
   "metadata": {},
   "outputs": [
    {
     "name": "stderr",
     "output_type": "stream",
     "text": [
      "3000it [00:02, 1290.90it/s]\n",
      "3000it [00:02, 1323.22it/s]\n",
      "3000it [00:02, 1306.41it/s]\n"
     ]
    }
   ],
   "source": [
    "for target in targets:\n",
    "    for i, df in tqdm.tqdm(enumerate(df_l)):\n",
    "        ds_xr.loc[i,:, :, target] = df[[\"date\",\"subpop\",target]].pivot(index=\"date\", values=target, columns=\"subpop\")[subpop_names].sort_index().values"
   ]
  },
  {
   "cell_type": "code",
   "execution_count": null,
   "metadata": {},
   "outputs": [],
   "source": []
  },
  {
   "cell_type": "code",
   "execution_count": 6,
   "metadata": {},
   "outputs": [
    {
     "ename": "NameError",
     "evalue": "name 'ds_xr' is not defined",
     "output_type": "error",
     "traceback": [
      "\u001b[0;31m---------------------------------------------------------------------------\u001b[0m",
      "\u001b[0;31mNameError\u001b[0m                                 Traceback (most recent call last)",
      "Cell \u001b[0;32mIn[6], line 2\u001b[0m\n\u001b[1;32m      1\u001b[0m filename \u001b[38;5;241m=\u001b[39m \u001b[38;5;124mf\u001b[39m\u001b[38;5;124m\"\u001b[39m\u001b[38;5;124msynthetic_dataset/\u001b[39m\u001b[38;5;132;01m{\u001b[39;00mrun_id\u001b[38;5;132;01m}\u001b[39;00m\u001b[38;5;124m.nc\u001b[39m\u001b[38;5;124m\"\u001b[39m\n\u001b[0;32m----> 2\u001b[0m ds_xr\u001b[38;5;241m.\u001b[39mattrs[\u001b[38;5;124m\"\u001b[39m\u001b[38;5;124mdate\u001b[39m\u001b[38;5;124m\"\u001b[39m] \u001b[38;5;241m=\u001b[39m \u001b[38;5;28mstr\u001b[39m(pd\u001b[38;5;241m.\u001b[39mTimestamp\u001b[38;5;241m.\u001b[39mtoday()\u001b[38;5;241m.\u001b[39mdate())\n\u001b[1;32m      4\u001b[0m ds_xr\u001b[38;5;241m.\u001b[39mto_netcdf(filename)\n",
      "\u001b[0;31mNameError\u001b[0m: name 'ds_xr' is not defined"
     ]
    }
   ],
   "source": [
    "filename = f\"synthetic_dataset/{run_id}.nc\"\n",
    "ds_xr.attrs[\"date\"] = str(pd.Timestamp.today().date())\n",
    "\n",
    "ds_xr.to_netcdf(filename)"
   ]
  },
  {
   "cell_type": "code",
   "execution_count": 7,
   "metadata": {},
   "outputs": [],
   "source": [
    "mlflow.set_experiment(\"generate_synthetic_data\")\n",
    "\n",
    "with mlflow.start_run(run_name=f\"{run_id}_{str(pd.Timestamp.today().date())}\"):\n",
    "    mlflow.log_param(\"config\", config_filepath) # could be a dictionnary as well\n",
    "    mlflow.log_param(\"project_path\", project_path)\n",
    "    mlflow.log_figure(fig, \"sum_cases.png\")\n",
    "    mlflow.log_artifact(filename, \"synthetic_dataset\")\n",
    "    mlflow.log_artifact(project_path+config_filepath, \"config\")"
   ]
  },
  {
   "cell_type": "code",
   "execution_count": 7,
   "metadata": {},
   "outputs": [
    {
     "data": {
      "text/plain": [
       "'/Users/chadi/Research/inpainting-idforecasts/mlruns/941976740501509390/718d1c439f414b91b824ed5cde223b44/artifacts/synthetic_dataset/sir_try.nc'"
      ]
     },
     "execution_count": 7,
     "metadata": {},
     "output_type": "execute_result"
    }
   ],
   "source": [
    "mlflow.artifacts.download_artifacts(run_id=\"718d1c439f414b91b824ed5cde223b44\", artifact_path=\"synthetic_dataset/sir_try.nc\")"
   ]
  }
 ],
 "metadata": {
  "kernelspec": {
   "display_name": "base",
   "language": "python",
   "name": "python3"
  },
  "language_info": {
   "codemirror_mode": {
    "name": "ipython",
    "version": 3
   },
   "file_extension": ".py",
   "mimetype": "text/x-python",
   "name": "python",
   "nbconvert_exporter": "python",
   "pygments_lexer": "ipython3",
   "version": "3.11.5"
  }
 },
 "nbformat": 4,
 "nbformat_minor": 2
}
