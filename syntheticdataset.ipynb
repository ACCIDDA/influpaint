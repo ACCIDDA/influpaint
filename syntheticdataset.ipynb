{
 "cells": [
  {
   "cell_type": "code",
   "execution_count": 1,
   "metadata": {},
   "outputs": [
    {
     "name": "stderr",
     "output_type": "stream",
     "text": [
      "INFO:root:Running ModelInfo with outcomes but without Outcomes Modifiers\n"
     ]
    },
    {
     "name": "stdout",
     "output_type": "stream",
     "text": [
      "found 10 CPUs, using these\n",
      "  gempyor >> Running ***DETERMINISTIC*** simulation;\n",
      "  gempyor >> ModelInfo USA_influpaint_Ro_all; index: 1; run_id: sir_try,\n",
      "  gempyor >> prefix: USA_influpaint_inference_all/sir_try/;\n"
     ]
    }
   ],
   "source": [
    "import gempyor\n",
    "import numpy as np\n",
    "import pandas as pd\n",
    "import matplotlib.pyplot as plt\n",
    "# import seaborn as sns\n",
    "import matplotlib._color_data as mcd\n",
    "import pyarrow.parquet as pq\n",
    "import dask.dataframe as dd\n",
    "import matplotlib.dates as mdates\n",
    "import matplotlib.cbook as cboo\n",
    "from matplotlib.backends.backend_pdf import PdfPages\n",
    "import tqdm\n",
    "\n",
    "import os\n",
    "import multiprocessing as mp\n",
    "import pandas as pd\n",
    "import pyarrow.parquet as pq\n",
    "import xarray as xr\n",
    "from gempyor import config, model_info, outcomes, seir, inference_parameter, logloss, inference\n",
    "\n",
    "import os\n",
    "from multiprocessing import cpu_count\n",
    "from gempyor.inference import GempyorInference\n",
    "import gempyor.postprocess_inference\n",
    "\n",
    "config_filepath = f\"config_sample_2pop_modifiers.yml\"\n",
    "project_path = \"synthetic_dataset/\"\n",
    "\n",
    "\n",
    "do_gt = False\n",
    "do_fit = False\n",
    "\n",
    "run_id = f\"sir_try\"\n",
    "\n",
    "ncpu = cpu_count()-2\n",
    "print(f\"found {ncpu} CPUs, using these\")\n",
    "generate_notebook=False\n",
    "gempyor_inference = GempyorInference(\n",
    "        config_filepath=config_filepath,\n",
    "        run_id=run_id,\n",
    "        prefix=None,\n",
    "        first_sim_index=1,\n",
    "        stoch_traj_flag=False,\n",
    "        rng_seed=None,\n",
    "        nslots=1,\n",
    "        inference_filename_prefix=\"\",  # usually for {global or chimeric}/{intermediate or final}\n",
    "        inference_filepath_suffix=\"\",  # usually for the slot_id\n",
    "        out_run_id=None,  # if out_run_id is different from in_run_id, fill this\n",
    "        out_prefix=None,  # if out_prefix is different from in_prefix, fill this\n",
    "        path_prefix=project_path,  # in case the data folder is on another directory\n",
    "        autowrite_seir=False,\n",
    ")\n",
    "\n",
    "nsubpop = len(gempyor_inference.modinf.subpop_struct.subpop_names)\n",
    "subpop_names = gempyor_inference.modinf.subpop_struct.subpop_names\n",
    "if generate_notebook:\n",
    "    for i in range(4):\n",
    "        gt_df = gempyor_inference.one_simulation(sim_id2write=i, load_ID = False)\n"
   ]
  },
  {
   "cell_type": "markdown",
   "metadata": {},
   "source": [
    "## Generate a ground-truth (do once)\n",
    "There is already a ground-truth data generated on git, but if you want to make yours, first run:\n",
    "```bash\n",
    "rm -r model_output/\n",
    "gempyor-simulate -c config_sample_2pop_modifiers.yml -n 300\n",
    "```\n"
   ]
  },
  {
   "cell_type": "code",
   "execution_count": null,
   "metadata": {},
   "outputs": [],
   "source": []
  },
  {
   "cell_type": "code",
   "execution_count": 2,
   "metadata": {},
   "outputs": [
    {
     "data": {
      "image/png": "[encoded data removed]",
      "text/plain": [
       "<Figure size 500x300 with 1 Axes>"
      ]
     },
     "metadata": {},
     "output_type": "display_data"
    }
   ],
   "source": [
    "import gempyor\n",
    "import pandas as pd\n",
    "import matplotlib.pyplot as plt\n",
    "\n",
    "df_l = []\n",
    "for fn in  gempyor.utils.list_filenames(folder=\"synthetic_dataset/model_output/\", filters=[\"hosp\", \".parquet\"]):\n",
    "    df_l.append(gempyor.read_df(fn))\n",
    "fig, axes = plt.subplots(1,1, figsize=(5,3))\n",
    "ax = axes\n",
    "for df in df_l:\n",
    "    ax.plot(df.set_index(\"date\").groupby(\"date\").sum()[\"incidCase\"], lw=.5)\n",
    "ax.grid()"
   ]
  },
  {
   "cell_type": "code",
   "execution_count": null,
   "metadata": {},
   "outputs": [],
   "source": []
  },
  {
   "cell_type": "markdown",
   "metadata": {},
   "source": [
    "## Convert to a dataset"
   ]
  },
  {
   "cell_type": "code",
   "execution_count": 3,
   "metadata": {},
   "outputs": [],
   "source": [
    "# convert to the dataset \n",
    "targets = [\"incidCase\", \"incidHosp\", \"incidDeath\"]\n",
    "\n",
    "ds_xr = xr.DataArray(0, dims=(\"sample\",\"date\", \"subpop\", \"target\"), coords={\n",
    "                                                                            \"sample\":np.arange(len(df_l)),\n",
    "                                                                            \"date\":df_l[0].set_index(\"date\").sort_index().groupby(\"date\").sum().index, \n",
    "                                                                            \"subpop\":subpop_names, \n",
    "                                                                            \"target\":targets\n",
    "                                                                            })"
   ]
  },
  {
   "cell_type": "code",
   "execution_count": 4,
   "metadata": {},
   "outputs": [
    {
     "name": "stderr",
     "output_type": "stream",
     "text": [
      "300it [00:00, 364.40it/s]\n",
      "300it [00:00, 375.39it/s]\n",
      "300it [00:00, 359.95it/s]\n"
     ]
    }
   ],
   "source": [
    "for target in targets:\n",
    "    for i, df in tqdm.tqdm(enumerate(df_l)):\n",
    "        ds_xr.loc[i,:, :, target] = df[[\"date\",\"subpop\",target]].pivot(index=\"date\", values=target, columns=\"subpop\")[subpop_names].sort_index().values"
   ]
  },
  {
   "cell_type": "code",
   "execution_count": 6,
   "metadata": {},
   "outputs": [],
   "source": [
    "ds_xr.to_netcdf(f\"synthetic_dataset/{run_id}.nc\")"
   ]
  }
 ],
 "metadata": {
  "kernelspec": {
   "display_name": "base",
   "language": "python",
   "name": "python3"
  },
  "language_info": {
   "codemirror_mode": {
    "name": "ipython",
    "version": 3
   },
   "file_extension": ".py",
   "mimetype": "text/x-python",
   "name": "python",
   "nbconvert_exporter": "python",
   "pygments_lexer": "ipython3",
   "version": "3.11.5"
  }
 },
 "nbformat": 4,
 "nbformat_minor": 2
}
